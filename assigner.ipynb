{
  "metadata": {
    "kernelspec": {
      "name": "python3",
      "display_name": "Python 3 (ipykernel)",
      "language": "python"
    },
    "language_info": {
      "name": "python",
      "version": "3.10.14",
      "mimetype": "text/x-python",
      "codemirror_mode": {
        "name": "ipython",
        "version": 3
      },
      "pygments_lexer": "ipython3",
      "nbconvert_exporter": "python",
      "file_extension": ".py"
    }
  },
  "nbformat_minor": 5,
  "nbformat": 4,
  "cells": [
    {
      "id": "5b8e7187-cbc4-4e6c-b113-045c6e643aa7",
      "cell_type": "markdown",
      "source": "<h2>Assigner</h2>\n<p>Hello! Make sure you've uploaded the definition and input xlsx spreadsheet. To do so in Jupyter, make sure the left-hand folder sidebar is opened up (click the folder icon), and then click the upload button.</p>",
      "metadata": {}
    },
    {
      "id": "3eb40865-4de8-4ca3-b5d1-852e11058d91",
      "cell_type": "code",
      "source": "%matplotlib inline\n%run assigner.py",
      "metadata": {
        "trusted": true
      },
      "outputs": [
        {
          "name": "stdout",
          "text": "Hostname: jupyter-curtishughey-assigner-uqjwsvu1\nRunning in a Jupyter context!!\n==================================================\nCouldn't figure out which definition file to use. Make sure it is uploaded and then provide the name\n",
          "output_type": "stream"
        }
      ],
      "execution_count": null
    },
    {
      "id": "1a7c0cea-8717-4145-a99e-aba4c0cda98d",
      "cell_type": "code",
      "source": "",
      "metadata": {
        "trusted": true
      },
      "outputs": [],
      "execution_count": null
    }
  ]
}
